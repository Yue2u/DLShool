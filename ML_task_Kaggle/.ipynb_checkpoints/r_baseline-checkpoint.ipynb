{
 "cells": [
  {
   "cell_type": "markdown",
   "metadata": {
    "id": "TK7oX5qdEEYr"
   },
   "source": [
    "<p style=\"align: center;\"><img align=center src=\"https://s8.hostingkartinok.com/uploads/images/2018/08/308b49fcfbc619d629fe4604bceb67ac.jpg\" width=500 height=450/></p>\n",
    "\n",
    "<h3 style=\"text-align: center;\"><b>Школа глубокого обучения ФПМИ МФТИ</b></h3>\n",
    "\n",
    "<h3 style=\"text-align: center;\"><b>Домашнее задание. Продвинутый поток. Весна 2021</b></h3>\n",
    "\n",
    "Это домашнее задание будет посвящено полноценному решению задачи машинного обучения."
   ]
  },
  {
   "cell_type": "markdown",
   "metadata": {
    "id": "zlB-owfaEEYs"
   },
   "source": [
    "Есть две части этого домашнего задания: \n",
    "* Сделать полноценный отчет о вашей работе: как вы обработали данные, какие модели попробовали и какие результаты получились (максимум 10 баллов). За каждую выполненную часть будет начислено определенное количество баллов.\n",
    "* Лучшее решение отправить в соревнование на [kaggle](https://www.kaggle.com/c/advanced-dls-spring-2021/) (максимум 5 баллов). За прохождение определенного порогов будут начисляться баллы.\n",
    "\n",
    "\n",
    "**Обе части будут проверяться в формате peer-review. Т.е. вашу посылку на степик будут проверять несколько других студентов и аггрегация их оценок будет выставлена. В то же время вам тоже нужно будет проверить несколько других учеников.**\n",
    "\n",
    "**Пожалуйста, делайте свою работу чистой и понятной, чтобы облегчить проверку. Если у вас будут проблемы с решением или хочется совета, то пишите в наш чат в телеграме или в лс @runfme. Если вы захотите проаппелировать оценку, то пипшите в лс @runfme.**\n",
    "\n",
    "**Во всех пунктах указания это минимальный набор вещей, которые стоит сделать. Если вы можете сделать какой-то шаг лучше или добавить что-то свое - дерзайте!**"
   ]
  },
  {
   "cell_type": "markdown",
   "metadata": {
    "id": "Tu_JvqcBEN8Y"
   },
   "source": [
    "# Как проверять?\n",
    "\n",
    "Ставьте полный балл, если выполнены все рекомендации или сделано что-то более интересное и сложное. За каждый отсустствующий пункт из рекомендация снижайте 1 балл."
   ]
  },
  {
   "cell_type": "markdown",
   "metadata": {
    "id": "ninJ63mJEEYt"
   },
   "source": [
    "# Метрика\n",
    "\n",
    "Перед решением любой задачи важно понимать, как будет оцениваться ваше решение. В данном случае мы используем стандартную для задачи классификации метрику ROC-AUC. Ее можно вычислить используя только предсказанные вероятности и истинные классы без конкретного порога классификации + она раотает даже если классы в данных сильно несбалансированны (примеров одного класса в десятки раз больше примеров длугого). Именно поэтому она очень удобна для соревнований.\n",
    "\n",
    "Посчитать ее легко:\n"
   ]
  },
  {
   "cell_type": "code",
   "execution_count": 1,
   "metadata": {
    "id": "SQIrka7yEEYu",
    "outputId": "ef45a9f2-7571-47b1-e697-b474b65cb0fb"
   },
   "outputs": [
    {
     "data": {
      "text/plain": [
       "0.8333333333333333"
      ]
     },
     "execution_count": 1,
     "metadata": {},
     "output_type": "execute_result"
    }
   ],
   "source": [
    "from sklearn.metrics import roc_auc_score\n",
    "\n",
    "y_true = [\n",
    "    0,\n",
    "    1,\n",
    "    1,\n",
    "    0,\n",
    "    1\n",
    "]\n",
    "\n",
    "y_predictions = [\n",
    "    0.1,\n",
    "    0.9,\n",
    "    0.4,\n",
    "    0.6,\n",
    "    0.61\n",
    "]\n",
    "\n",
    "roc_auc_score(y_true, y_predictions)"
   ]
  },
  {
   "cell_type": "markdown",
   "metadata": {
    "id": "IrDNNkNTEEYz"
   },
   "source": [
    "# Первая часть. Исследование"
   ]
  },
  {
   "cell_type": "code",
   "execution_count": 2,
   "metadata": {
    "id": "lzLqEeZKEEYz"
   },
   "outputs": [],
   "source": [
    "import pandas as pd\n",
    "import numpy as np\n",
    "from matplotlib import pyplot as plt"
   ]
  },
  {
   "cell_type": "markdown",
   "metadata": {
    "id": "LOlxdURSEEY3"
   },
   "source": [
    "## Загрузка данных (2 балла)\n",
    "\n",
    "1) Посмотрите на случайные строчки. \n",
    "\n",
    "2) Посмотрите, есть ли в датасете незаполненные значения (nan'ы) с помощью data.isna() или data.info() и, если нужно, замените их на что-то. Будет хорошо, если вы построите табличку с количеством nan в каждой колонке."
   ]
  },
  {
   "cell_type": "code",
   "execution_count": 3,
   "metadata": {
    "id": "pw-Brue9EEY3"
   },
   "outputs": [],
   "source": [
    "data = pd.read_csv('./train.csv')"
   ]
  },
  {
   "cell_type": "code",
   "execution_count": 4,
   "metadata": {
    "id": "KgnkkF5bEEY9"
   },
   "outputs": [],
   "source": [
    "# Для вашего удобства списки с именами разных колонок\n",
    "\n",
    "# Числовые признаки\n",
    "num_cols = [\n",
    "    'ClientPeriod',\n",
    "    'MonthlySpending',\n",
    "    'TotalSpent'\n",
    "]\n",
    "\n",
    "# Категориальные признаки\n",
    "cat_cols = [\n",
    "    'Sex',\n",
    "    'IsSeniorCitizen',\n",
    "    'HasPartner',\n",
    "    'HasChild',\n",
    "    'HasPhoneService',\n",
    "    'HasMultiplePhoneNumbers',\n",
    "    'HasInternetService',\n",
    "    'HasOnlineSecurityService',\n",
    "    'HasOnlineBackup',\n",
    "    'HasDeviceProtection',\n",
    "    'HasTechSupportAccess',\n",
    "    'HasOnlineTV',\n",
    "    'HasMovieSubscription',\n",
    "    'HasContractPhone',\n",
    "    'IsBillingPaperless',\n",
    "    'PaymentMethod'\n",
    "]\n",
    "\n",
    "feature_cols = num_cols + cat_cols\n",
    "target_col = 'Churn'"
   ]
  },
  {
   "cell_type": "code",
   "execution_count": 5,
   "metadata": {
    "id": "tHC6gWabEEZA"
   },
   "outputs": [
    {
     "data": {
      "text/html": [
       "<div>\n",
       "<style scoped>\n",
       "    .dataframe tbody tr th:only-of-type {\n",
       "        vertical-align: middle;\n",
       "    }\n",
       "\n",
       "    .dataframe tbody tr th {\n",
       "        vertical-align: top;\n",
       "    }\n",
       "\n",
       "    .dataframe thead th {\n",
       "        text-align: right;\n",
       "    }\n",
       "</style>\n",
       "<table border=\"1\" class=\"dataframe\">\n",
       "  <thead>\n",
       "    <tr style=\"text-align: right;\">\n",
       "      <th></th>\n",
       "      <th>ClientPeriod</th>\n",
       "      <th>MonthlySpending</th>\n",
       "      <th>TotalSpent</th>\n",
       "      <th>Sex</th>\n",
       "      <th>IsSeniorCitizen</th>\n",
       "      <th>HasPartner</th>\n",
       "      <th>HasChild</th>\n",
       "      <th>HasPhoneService</th>\n",
       "      <th>HasMultiplePhoneNumbers</th>\n",
       "      <th>HasInternetService</th>\n",
       "      <th>HasOnlineSecurityService</th>\n",
       "      <th>HasOnlineBackup</th>\n",
       "      <th>HasDeviceProtection</th>\n",
       "      <th>HasTechSupportAccess</th>\n",
       "      <th>HasOnlineTV</th>\n",
       "      <th>HasMovieSubscription</th>\n",
       "      <th>HasContractPhone</th>\n",
       "      <th>IsBillingPaperless</th>\n",
       "      <th>PaymentMethod</th>\n",
       "      <th>Churn</th>\n",
       "    </tr>\n",
       "  </thead>\n",
       "  <tbody>\n",
       "    <tr>\n",
       "      <th>1549</th>\n",
       "      <td>9</td>\n",
       "      <td>85.35</td>\n",
       "      <td>754.65</td>\n",
       "      <td>Female</td>\n",
       "      <td>0</td>\n",
       "      <td>Yes</td>\n",
       "      <td>Yes</td>\n",
       "      <td>Yes</td>\n",
       "      <td>Yes</td>\n",
       "      <td>Fiber optic</td>\n",
       "      <td>No</td>\n",
       "      <td>No</td>\n",
       "      <td>No</td>\n",
       "      <td>No</td>\n",
       "      <td>Yes</td>\n",
       "      <td>No</td>\n",
       "      <td>Month-to-month</td>\n",
       "      <td>Yes</td>\n",
       "      <td>Bank transfer (automatic)</td>\n",
       "      <td>1</td>\n",
       "    </tr>\n",
       "    <tr>\n",
       "      <th>1554</th>\n",
       "      <td>41</td>\n",
       "      <td>86.20</td>\n",
       "      <td>3339.05</td>\n",
       "      <td>Female</td>\n",
       "      <td>0</td>\n",
       "      <td>Yes</td>\n",
       "      <td>No</td>\n",
       "      <td>Yes</td>\n",
       "      <td>No</td>\n",
       "      <td>Fiber optic</td>\n",
       "      <td>No</td>\n",
       "      <td>Yes</td>\n",
       "      <td>Yes</td>\n",
       "      <td>Yes</td>\n",
       "      <td>No</td>\n",
       "      <td>No</td>\n",
       "      <td>One year</td>\n",
       "      <td>Yes</td>\n",
       "      <td>Bank transfer (automatic)</td>\n",
       "      <td>0</td>\n",
       "    </tr>\n",
       "    <tr>\n",
       "      <th>4354</th>\n",
       "      <td>5</td>\n",
       "      <td>69.35</td>\n",
       "      <td>341.6</td>\n",
       "      <td>Female</td>\n",
       "      <td>1</td>\n",
       "      <td>Yes</td>\n",
       "      <td>No</td>\n",
       "      <td>Yes</td>\n",
       "      <td>No</td>\n",
       "      <td>Fiber optic</td>\n",
       "      <td>No</td>\n",
       "      <td>No</td>\n",
       "      <td>No</td>\n",
       "      <td>No</td>\n",
       "      <td>No</td>\n",
       "      <td>No</td>\n",
       "      <td>Month-to-month</td>\n",
       "      <td>Yes</td>\n",
       "      <td>Electronic check</td>\n",
       "      <td>0</td>\n",
       "    </tr>\n",
       "    <tr>\n",
       "      <th>305</th>\n",
       "      <td>54</td>\n",
       "      <td>20.10</td>\n",
       "      <td>1079.45</td>\n",
       "      <td>Female</td>\n",
       "      <td>0</td>\n",
       "      <td>No</td>\n",
       "      <td>No</td>\n",
       "      <td>Yes</td>\n",
       "      <td>No</td>\n",
       "      <td>No</td>\n",
       "      <td>No internet service</td>\n",
       "      <td>No internet service</td>\n",
       "      <td>No internet service</td>\n",
       "      <td>No internet service</td>\n",
       "      <td>No internet service</td>\n",
       "      <td>No internet service</td>\n",
       "      <td>Two year</td>\n",
       "      <td>No</td>\n",
       "      <td>Mailed check</td>\n",
       "      <td>0</td>\n",
       "    </tr>\n",
       "    <tr>\n",
       "      <th>829</th>\n",
       "      <td>17</td>\n",
       "      <td>20.05</td>\n",
       "      <td>337.9</td>\n",
       "      <td>Female</td>\n",
       "      <td>0</td>\n",
       "      <td>No</td>\n",
       "      <td>No</td>\n",
       "      <td>Yes</td>\n",
       "      <td>No</td>\n",
       "      <td>No</td>\n",
       "      <td>No internet service</td>\n",
       "      <td>No internet service</td>\n",
       "      <td>No internet service</td>\n",
       "      <td>No internet service</td>\n",
       "      <td>No internet service</td>\n",
       "      <td>No internet service</td>\n",
       "      <td>One year</td>\n",
       "      <td>No</td>\n",
       "      <td>Credit card (automatic)</td>\n",
       "      <td>0</td>\n",
       "    </tr>\n",
       "    <tr>\n",
       "      <th>3089</th>\n",
       "      <td>8</td>\n",
       "      <td>19.70</td>\n",
       "      <td>130.25</td>\n",
       "      <td>Male</td>\n",
       "      <td>0</td>\n",
       "      <td>Yes</td>\n",
       "      <td>Yes</td>\n",
       "      <td>Yes</td>\n",
       "      <td>No</td>\n",
       "      <td>No</td>\n",
       "      <td>No internet service</td>\n",
       "      <td>No internet service</td>\n",
       "      <td>No internet service</td>\n",
       "      <td>No internet service</td>\n",
       "      <td>No internet service</td>\n",
       "      <td>No internet service</td>\n",
       "      <td>Two year</td>\n",
       "      <td>No</td>\n",
       "      <td>Mailed check</td>\n",
       "      <td>0</td>\n",
       "    </tr>\n",
       "    <tr>\n",
       "      <th>2680</th>\n",
       "      <td>22</td>\n",
       "      <td>100.05</td>\n",
       "      <td>2090.25</td>\n",
       "      <td>Male</td>\n",
       "      <td>0</td>\n",
       "      <td>Yes</td>\n",
       "      <td>Yes</td>\n",
       "      <td>Yes</td>\n",
       "      <td>No</td>\n",
       "      <td>Fiber optic</td>\n",
       "      <td>No</td>\n",
       "      <td>Yes</td>\n",
       "      <td>Yes</td>\n",
       "      <td>No</td>\n",
       "      <td>Yes</td>\n",
       "      <td>Yes</td>\n",
       "      <td>One year</td>\n",
       "      <td>Yes</td>\n",
       "      <td>Mailed check</td>\n",
       "      <td>0</td>\n",
       "    </tr>\n",
       "    <tr>\n",
       "      <th>3625</th>\n",
       "      <td>33</td>\n",
       "      <td>20.10</td>\n",
       "      <td>620.55</td>\n",
       "      <td>Male</td>\n",
       "      <td>0</td>\n",
       "      <td>Yes</td>\n",
       "      <td>Yes</td>\n",
       "      <td>Yes</td>\n",
       "      <td>No</td>\n",
       "      <td>No</td>\n",
       "      <td>No internet service</td>\n",
       "      <td>No internet service</td>\n",
       "      <td>No internet service</td>\n",
       "      <td>No internet service</td>\n",
       "      <td>No internet service</td>\n",
       "      <td>No internet service</td>\n",
       "      <td>One year</td>\n",
       "      <td>No</td>\n",
       "      <td>Credit card (automatic)</td>\n",
       "      <td>0</td>\n",
       "    </tr>\n",
       "    <tr>\n",
       "      <th>4824</th>\n",
       "      <td>8</td>\n",
       "      <td>101.35</td>\n",
       "      <td>780.5</td>\n",
       "      <td>Female</td>\n",
       "      <td>1</td>\n",
       "      <td>No</td>\n",
       "      <td>No</td>\n",
       "      <td>Yes</td>\n",
       "      <td>Yes</td>\n",
       "      <td>Fiber optic</td>\n",
       "      <td>No</td>\n",
       "      <td>No</td>\n",
       "      <td>Yes</td>\n",
       "      <td>No</td>\n",
       "      <td>Yes</td>\n",
       "      <td>Yes</td>\n",
       "      <td>Month-to-month</td>\n",
       "      <td>No</td>\n",
       "      <td>Electronic check</td>\n",
       "      <td>1</td>\n",
       "    </tr>\n",
       "    <tr>\n",
       "      <th>78</th>\n",
       "      <td>16</td>\n",
       "      <td>55.85</td>\n",
       "      <td>857.8</td>\n",
       "      <td>Male</td>\n",
       "      <td>0</td>\n",
       "      <td>Yes</td>\n",
       "      <td>Yes</td>\n",
       "      <td>Yes</td>\n",
       "      <td>No</td>\n",
       "      <td>DSL</td>\n",
       "      <td>Yes</td>\n",
       "      <td>Yes</td>\n",
       "      <td>No</td>\n",
       "      <td>No</td>\n",
       "      <td>No</td>\n",
       "      <td>No</td>\n",
       "      <td>One year</td>\n",
       "      <td>Yes</td>\n",
       "      <td>Mailed check</td>\n",
       "      <td>0</td>\n",
       "    </tr>\n",
       "  </tbody>\n",
       "</table>\n",
       "</div>"
      ],
      "text/plain": [
       "      ClientPeriod  MonthlySpending TotalSpent     Sex  IsSeniorCitizen  \\\n",
       "1549             9            85.35     754.65  Female                0   \n",
       "1554            41            86.20    3339.05  Female                0   \n",
       "4354             5            69.35      341.6  Female                1   \n",
       "305             54            20.10    1079.45  Female                0   \n",
       "829             17            20.05      337.9  Female                0   \n",
       "3089             8            19.70     130.25    Male                0   \n",
       "2680            22           100.05    2090.25    Male                0   \n",
       "3625            33            20.10     620.55    Male                0   \n",
       "4824             8           101.35      780.5  Female                1   \n",
       "78              16            55.85      857.8    Male                0   \n",
       "\n",
       "     HasPartner HasChild HasPhoneService HasMultiplePhoneNumbers  \\\n",
       "1549        Yes      Yes             Yes                     Yes   \n",
       "1554        Yes       No             Yes                      No   \n",
       "4354        Yes       No             Yes                      No   \n",
       "305          No       No             Yes                      No   \n",
       "829          No       No             Yes                      No   \n",
       "3089        Yes      Yes             Yes                      No   \n",
       "2680        Yes      Yes             Yes                      No   \n",
       "3625        Yes      Yes             Yes                      No   \n",
       "4824         No       No             Yes                     Yes   \n",
       "78          Yes      Yes             Yes                      No   \n",
       "\n",
       "     HasInternetService HasOnlineSecurityService      HasOnlineBackup  \\\n",
       "1549        Fiber optic                       No                   No   \n",
       "1554        Fiber optic                       No                  Yes   \n",
       "4354        Fiber optic                       No                   No   \n",
       "305                  No      No internet service  No internet service   \n",
       "829                  No      No internet service  No internet service   \n",
       "3089                 No      No internet service  No internet service   \n",
       "2680        Fiber optic                       No                  Yes   \n",
       "3625                 No      No internet service  No internet service   \n",
       "4824        Fiber optic                       No                   No   \n",
       "78                  DSL                      Yes                  Yes   \n",
       "\n",
       "      HasDeviceProtection HasTechSupportAccess          HasOnlineTV  \\\n",
       "1549                   No                   No                  Yes   \n",
       "1554                  Yes                  Yes                   No   \n",
       "4354                   No                   No                   No   \n",
       "305   No internet service  No internet service  No internet service   \n",
       "829   No internet service  No internet service  No internet service   \n",
       "3089  No internet service  No internet service  No internet service   \n",
       "2680                  Yes                   No                  Yes   \n",
       "3625  No internet service  No internet service  No internet service   \n",
       "4824                  Yes                   No                  Yes   \n",
       "78                     No                   No                   No   \n",
       "\n",
       "     HasMovieSubscription HasContractPhone IsBillingPaperless  \\\n",
       "1549                   No   Month-to-month                Yes   \n",
       "1554                   No         One year                Yes   \n",
       "4354                   No   Month-to-month                Yes   \n",
       "305   No internet service         Two year                 No   \n",
       "829   No internet service         One year                 No   \n",
       "3089  No internet service         Two year                 No   \n",
       "2680                  Yes         One year                Yes   \n",
       "3625  No internet service         One year                 No   \n",
       "4824                  Yes   Month-to-month                 No   \n",
       "78                     No         One year                Yes   \n",
       "\n",
       "                  PaymentMethod  Churn  \n",
       "1549  Bank transfer (automatic)      1  \n",
       "1554  Bank transfer (automatic)      0  \n",
       "4354           Electronic check      0  \n",
       "305                Mailed check      0  \n",
       "829     Credit card (automatic)      0  \n",
       "3089               Mailed check      0  \n",
       "2680               Mailed check      0  \n",
       "3625    Credit card (automatic)      0  \n",
       "4824           Electronic check      1  \n",
       "78                 Mailed check      0  "
      ]
     },
     "execution_count": 5,
     "metadata": {},
     "output_type": "execute_result"
    }
   ],
   "source": [
    "# 1)\n",
    "data.iloc[np.random.randint(0, data.shape[0], 10), :]"
   ]
  },
  {
   "cell_type": "code",
   "execution_count": 6,
   "metadata": {},
   "outputs": [
    {
     "data": {
      "text/html": [
       "<div>\n",
       "<style scoped>\n",
       "    .dataframe tbody tr th:only-of-type {\n",
       "        vertical-align: middle;\n",
       "    }\n",
       "\n",
       "    .dataframe tbody tr th {\n",
       "        vertical-align: top;\n",
       "    }\n",
       "\n",
       "    .dataframe thead th {\n",
       "        text-align: right;\n",
       "    }\n",
       "</style>\n",
       "<table border=\"1\" class=\"dataframe\">\n",
       "  <thead>\n",
       "    <tr style=\"text-align: right;\">\n",
       "      <th></th>\n",
       "      <th>Число nan</th>\n",
       "    </tr>\n",
       "  </thead>\n",
       "  <tbody>\n",
       "    <tr>\n",
       "      <th>ClientPeriod</th>\n",
       "      <td>0</td>\n",
       "    </tr>\n",
       "    <tr>\n",
       "      <th>MonthlySpending</th>\n",
       "      <td>0</td>\n",
       "    </tr>\n",
       "    <tr>\n",
       "      <th>TotalSpent</th>\n",
       "      <td>0</td>\n",
       "    </tr>\n",
       "    <tr>\n",
       "      <th>Sex</th>\n",
       "      <td>0</td>\n",
       "    </tr>\n",
       "    <tr>\n",
       "      <th>IsSeniorCitizen</th>\n",
       "      <td>0</td>\n",
       "    </tr>\n",
       "    <tr>\n",
       "      <th>HasPartner</th>\n",
       "      <td>0</td>\n",
       "    </tr>\n",
       "    <tr>\n",
       "      <th>HasChild</th>\n",
       "      <td>0</td>\n",
       "    </tr>\n",
       "    <tr>\n",
       "      <th>HasPhoneService</th>\n",
       "      <td>0</td>\n",
       "    </tr>\n",
       "    <tr>\n",
       "      <th>HasMultiplePhoneNumbers</th>\n",
       "      <td>0</td>\n",
       "    </tr>\n",
       "    <tr>\n",
       "      <th>HasInternetService</th>\n",
       "      <td>0</td>\n",
       "    </tr>\n",
       "    <tr>\n",
       "      <th>HasOnlineSecurityService</th>\n",
       "      <td>0</td>\n",
       "    </tr>\n",
       "    <tr>\n",
       "      <th>HasOnlineBackup</th>\n",
       "      <td>0</td>\n",
       "    </tr>\n",
       "    <tr>\n",
       "      <th>HasDeviceProtection</th>\n",
       "      <td>0</td>\n",
       "    </tr>\n",
       "    <tr>\n",
       "      <th>HasTechSupportAccess</th>\n",
       "      <td>0</td>\n",
       "    </tr>\n",
       "    <tr>\n",
       "      <th>HasOnlineTV</th>\n",
       "      <td>0</td>\n",
       "    </tr>\n",
       "    <tr>\n",
       "      <th>HasMovieSubscription</th>\n",
       "      <td>0</td>\n",
       "    </tr>\n",
       "    <tr>\n",
       "      <th>HasContractPhone</th>\n",
       "      <td>0</td>\n",
       "    </tr>\n",
       "    <tr>\n",
       "      <th>IsBillingPaperless</th>\n",
       "      <td>0</td>\n",
       "    </tr>\n",
       "    <tr>\n",
       "      <th>PaymentMethod</th>\n",
       "      <td>0</td>\n",
       "    </tr>\n",
       "    <tr>\n",
       "      <th>Churn</th>\n",
       "      <td>0</td>\n",
       "    </tr>\n",
       "  </tbody>\n",
       "</table>\n",
       "</div>"
      ],
      "text/plain": [
       "                          Число nan\n",
       "ClientPeriod                      0\n",
       "MonthlySpending                   0\n",
       "TotalSpent                        0\n",
       "Sex                               0\n",
       "IsSeniorCitizen                   0\n",
       "HasPartner                        0\n",
       "HasChild                          0\n",
       "HasPhoneService                   0\n",
       "HasMultiplePhoneNumbers           0\n",
       "HasInternetService                0\n",
       "HasOnlineSecurityService          0\n",
       "HasOnlineBackup                   0\n",
       "HasDeviceProtection               0\n",
       "HasTechSupportAccess              0\n",
       "HasOnlineTV                       0\n",
       "HasMovieSubscription              0\n",
       "HasContractPhone                  0\n",
       "IsBillingPaperless                0\n",
       "PaymentMethod                     0\n",
       "Churn                             0"
      ]
     },
     "execution_count": 6,
     "metadata": {},
     "output_type": "execute_result"
    }
   ],
   "source": [
    "# 2)\n",
    "pd.DataFrame(data.isna().sum(), columns=['Число nan'])"
   ]
  },
  {
   "cell_type": "markdown",
   "metadata": {},
   "source": [
    "3) У нас могут присутствовать пропусти, которые отличны от nan. Посмотрим, например, на типы в данных. "
   ]
  },
  {
   "cell_type": "code",
   "execution_count": 7,
   "metadata": {},
   "outputs": [
    {
     "data": {
      "text/plain": [
       "ClientPeriod                  int64\n",
       "MonthlySpending             float64\n",
       "TotalSpent                   object\n",
       "Sex                          object\n",
       "IsSeniorCitizen               int64\n",
       "HasPartner                   object\n",
       "HasChild                     object\n",
       "HasPhoneService              object\n",
       "HasMultiplePhoneNumbers      object\n",
       "HasInternetService           object\n",
       "HasOnlineSecurityService     object\n",
       "HasOnlineBackup              object\n",
       "HasDeviceProtection          object\n",
       "HasTechSupportAccess         object\n",
       "HasOnlineTV                  object\n",
       "HasMovieSubscription         object\n",
       "HasContractPhone             object\n",
       "IsBillingPaperless           object\n",
       "PaymentMethod                object\n",
       "Churn                         int64\n",
       "dtype: object"
      ]
     },
     "execution_count": 7,
     "metadata": {},
     "output_type": "execute_result"
    }
   ],
   "source": [
    "# 3)\n",
    "data.dtypes"
   ]
  },
  {
   "cell_type": "markdown",
   "metadata": {},
   "source": [
    "Видно, что числовой признак `TotalSpent` является типом `object`. Выясним в чем дело"
   ]
  },
  {
   "cell_type": "code",
   "execution_count": 10,
   "metadata": {},
   "outputs": [
    {
     "data": {
      "text/plain": [
       "array([   0.  ,   18.8 ,   18.9 , ..., 8670.1 , 8672.45, 8684.8 ])"
      ]
     },
     "execution_count": 10,
     "metadata": {},
     "output_type": "execute_result"
    }
   ],
   "source": [
    "np.unique(data['TotalSpent'])"
   ]
  },
  {
   "cell_type": "markdown",
   "metadata": {},
   "source": [
    "Сразу видно, что у нас есть недопустимое значение. Можно предположить, что пропуск соответствует отсутствию платы, поэтому заменим $\\text{' '}$ на 0 и приобразуем данные к `float`"
   ]
  },
  {
   "cell_type": "code",
   "execution_count": 11,
   "metadata": {},
   "outputs": [
    {
     "data": {
      "text/plain": [
       "ClientPeriod                  int64\n",
       "MonthlySpending             float64\n",
       "TotalSpent                  float64\n",
       "Sex                          object\n",
       "IsSeniorCitizen               int64\n",
       "HasPartner                   object\n",
       "HasChild                     object\n",
       "HasPhoneService              object\n",
       "HasMultiplePhoneNumbers      object\n",
       "HasInternetService           object\n",
       "HasOnlineSecurityService     object\n",
       "HasOnlineBackup              object\n",
       "HasDeviceProtection          object\n",
       "HasTechSupportAccess         object\n",
       "HasOnlineTV                  object\n",
       "HasMovieSubscription         object\n",
       "HasContractPhone             object\n",
       "IsBillingPaperless           object\n",
       "PaymentMethod                object\n",
       "Churn                         int64\n",
       "dtype: object"
      ]
     },
     "execution_count": 11,
     "metadata": {},
     "output_type": "execute_result"
    }
   ],
   "source": [
    "data.iloc[data['TotalSpent'] == ' ', 2] = 0\n",
    "data['TotalSpent'] = data['TotalSpent'].astype(float)\n",
    "data.dtypes"
   ]
  },
  {
   "cell_type": "markdown",
   "metadata": {},
   "source": [
    "Уже лучше, но стоит посмотреть также на значения и других признаков, чтобы выявить возможные аномалии и выбросы. Для этого у нас есть следующий раздел"
   ]
  },
  {
   "cell_type": "markdown",
   "metadata": {
    "id": "dK370bPCEEZD"
   },
   "source": [
    "## Анализ данных (3 балла)\n",
    "\n",
    "1) Для численных призанков постройте гистограмму (*plt.hist(...)*) или boxplot (*plt.boxplot(...)*). Для категориальных посчитайте количество каждого значения для каждого признака. Для каждой колонки надо сделать *data.value_counts()* и построить bar диаграммы *plt.bar(...)* или круговые диаграммы *plt.pie(...)* (хорошо, елси вы сможете это сделать на одном гарфике с помощью *plt.subplots(...)*). \n",
    "\n",
    "2) Посмотрите на распределение целевой переменной и скажите, являются ли классы несбалансированными.\n",
    "\n",
    "3) (Если будет желание) Поиграйте с разными библиотеками для визуализации - *sns*, *pandas_visual_analysis*, etc.\n",
    "\n",
    "Второй пункт очень важен, потому что существуют задачи классификации с несбалансированными классами. Например, это может значить, что в датасете намного больше примеров 0 класса. В таких случаях нужно 1) не использовать accuracy как метрику 2) использовать методы борьбы с imbalanced dataset (обычно если датасет сильно несбалансирован, т.е. класса 1 в 20 раз меньше класса 0)."
   ]
  },
  {
   "cell_type": "code",
   "execution_count": 12,
   "metadata": {
    "id": "NZkbgFJZEEZE"
   },
   "outputs": [
    {
     "data": {
      "image/png": "[encoded data removed]",
      "text/plain": [
       "<Figure size 1152x504 with 4 Axes>"
      ]
     },
     "metadata": {},
     "output_type": "display_data"
    }
   ],
   "source": [
    "# 1)\n",
    "import seaborn as sns\n",
    "sns.set(font_scale=1.3, palette='Set2')\n",
    "\n",
    "\n",
    "data[num_cols].hist(figsize=(16, 7), bins=30)\n",
    "plt.subplots_adjust(wspace=0.15)\n",
    "plt.show()"
   ]
  },
  {
   "cell_type": "code",
   "execution_count": 13,
   "metadata": {},
   "outputs": [
    {
     "data": {
      "image/png": "[encoded data removed]",
      "text/plain": [
       "<Figure size 1152x1440 with 16 Axes>"
      ]
     },
     "metadata": {},
     "output_type": "display_data"
    }
   ],
   "source": [
    "plt.figure(figsize=(16, 20))\n",
    "plt.subplots_adjust(hspace=1)\n",
    "colors = ['r', 'g', 'b', 'y', 'k', 'm', 'c']\n",
    "\n",
    "for i, cat_col in enumerate(cat_cols):\n",
    "    counts = data[cat_col].value_counts()\n",
    "    x = np.arange(counts.shape[0])\n",
    "    plt.subplot(4, 4, i + 1)\n",
    "    plt.title(cat_col)\n",
    "    plt.bar(x, counts.values, width=1, color=colors)\n",
    "    plt.xticks(x, counts.index, rotation=70)\n",
    "    \n",
    "plt.show()"
   ]
  },
  {
   "cell_type": "code",
   "execution_count": 14,
   "metadata": {},
   "outputs": [
    {
     "data": {
      "image/png": "[encoded data removed]",
      "text/plain": [
       "<Figure size 1152x108 with 1 Axes>"
      ]
     },
     "metadata": {},
     "output_type": "display_data"
    }
   ],
   "source": [
    "# 2)\n",
    "counts = data[target_col].value_counts()\n",
    "x = np.arange(2)\n",
    "plt.figure(figsize=(16, 1.5))\n",
    "plt.barh(x, counts.values, height=1, color=['r', 'g'])\n",
    "plt.yticks(x, counts.index)\n",
    "plt.show()"
   ]
  },
  {
   "cell_type": "markdown",
   "metadata": {
    "id": "zg60u3QDEEZH"
   },
   "source": [
    "(Дополнительно) Если вы нашли какие-то ошибки в данных или выбросы, то можете их убрать. Тут можно поэксперементировать с обработкой данных как угодно, но не за баллы."
   ]
  },
  {
   "cell_type": "code",
   "execution_count": null,
   "metadata": {
    "id": "fwfksF1gEEZI"
   },
   "outputs": [],
   "source": []
  },
  {
   "cell_type": "markdown",
   "metadata": {
    "id": "DviiJd8REEZK"
   },
   "source": [
    "## Применение линейных моделей (3 балла)\n",
    "\n",
    "1) Обработайте данные для того, чтобы к ним можно было применить LogisticRegression. Т.е. отнормируйте числовые признаки, а категориальные закодируйте с помощью one-hot-encoding'а. \n",
    "\n",
    "2) С помощью кроссвалидации или разделения на train/valid выборку протестируйте разные значения гиперпараметра C и выберите лучший (можно тестировать С=100, 10, 1, 0.1, 0.01, 0.001) по метрике ROC-AUC. \n",
    "\n",
    "Если вы разделяете на train/valid, то используйте LogisticRegressionCV. Он сам при вызове .fit() подберет параметр С. (не забудьте передать scroing='roc_auc', чтобы при кроссвалидации сравнивались значения этой метрики, и refit=True, чтобы при потом модель обучилась на всем датасете с лучшим параметром C). \n",
    "\n",
    "\n",
    "(более сложный вариант) Если вы будете использовать кроссвалидацию, то преобразования данных и LogisticRegression нужно соединить в один Pipeline с помощью make_pipeline, как это делалось во втором семинаре. Потом pipeline надо передать в GridSearchCV. Для one-hot-encoding'a можно испльзовать комбинацию LabelEncoder + OneHotEncoder (сначала превращаем строчки в числа, а потом числа првращаем в one-hot вектора.)"
   ]
  },
  {
   "cell_type": "code",
   "execution_count": 15,
   "metadata": {
    "id": "xHCLDmwqEEZL"
   },
   "outputs": [],
   "source": [
    "from sklearn.linear_model import LogisticRegression, LogisticRegressionCV\n",
    "from sklearn.model_selection import train_test_split, GridSearchCV\n",
    "from sklearn.preprocessing import StandardScaler, RobustScaler, LabelEncoder, OneHotEncoder\n",
    "from sklearn.pipeline import make_pipeline"
   ]
  },
  {
   "cell_type": "code",
   "execution_count": 16,
   "metadata": {
    "id": "P2Yv3uYtEEZO"
   },
   "outputs": [],
   "source": [
    "# 1)\n",
    "pd.options.mode.chained_assignment = None\n",
    "tmp_data = pd.get_dummies(data, drop_first=True)\n",
    "\n",
    "X = tmp_data.drop(columns=[target_col])\n",
    "y = tmp_data[target_col]\n",
    "\n",
    "X_train, X_valid, y_train, y_valid = train_test_split(X, y, test_size=0.2, shuffle=True, random_state=42, stratify=y)\n",
    "\n",
    "scaler = StandardScaler()\n",
    "scaler.fit(X_train[num_cols])\n",
    "\n",
    "X_train[num_cols] = scaler.transform(X_train[num_cols])\n",
    "X_valid[num_cols] = scaler.transform(X_valid[num_cols])"
   ]
  },
  {
   "cell_type": "code",
   "execution_count": 17,
   "metadata": {},
   "outputs": [
    {
     "data": {
      "text/plain": [
       "0.8550911783763769"
      ]
     },
     "execution_count": 17,
     "metadata": {},
     "output_type": "execute_result"
    }
   ],
   "source": [
    "# 2)\n",
    "Cs = 10 ** np.arange(10, -2, -1, dtype=float)\n",
    "\n",
    "clf = LogisticRegressionCV(Cs=Cs, cv=5, scoring='roc_auc', refit=True, random_state=42).fit(X_train, y_train)\n",
    "roc_auc_score(y_valid, clf.predict_proba(X_valid)[:, 1])"
   ]
  },
  {
   "cell_type": "markdown",
   "metadata": {
    "id": "uVahy6JKEEZQ"
   },
   "source": [
    "Выпишите какое лучшее качество и с какими параметрами вам удалось получить"
   ]
  },
  {
   "cell_type": "markdown",
   "metadata": {
    "id": "36729TOQEEZR"
   },
   "source": [
    "**Лучшее качество:** $0.855$"
   ]
  },
  {
   "cell_type": "markdown",
   "metadata": {
    "id": "BlTeVy7fEEZR"
   },
   "source": [
    "## Применение градиентного бустинга (2 балла)\n",
    "\n",
    "Если вы хотите получить баллы за точный ответ, то стоит попробовать градиентный бустинг. Часто градиентный бустинг с дефолтными параметрами даст вам 80% результата за 0% усилий.\n",
    "\n",
    "Мы будем использовать catboost, поэтому нам не надо кодировать категориальные признаки. catboost сделает это сам (в .fit() надо передать cat_features=cat_cols). А численные признаки нормировать для моделей, основанных на деревьях не нужно.\n",
    "\n",
    "1) Разделите выборку на train/valid. Протестируйте catboost cо стандартными параметрами.\n",
    "\n",
    "2) Протестируйте разные занчения параметроа количества деревьев и learning_rate'а и выберите лучшую по метрике ROC-AUC комбинацию. \n",
    "\n",
    "(Дополнительно) Есть некоторые сложности с тем, чтобы использовать CatBoostClassifier вместе с GridSearchCV, поэтому мы не просим использовать кроссвалидацию. Но можете попробовать)"
   ]
  },
  {
   "cell_type": "code",
   "execution_count": 18,
   "metadata": {
    "id": "Fioxxlp-EEZS"
   },
   "outputs": [],
   "source": [
    "# 1)\n",
    "X = data.drop(columns=[target_col])\n",
    "y = data[target_col]\n",
    "\n",
    "X_train, X_valid, y_train, y_valid = train_test_split(X, y, test_size=0.2, shuffle=True, random_state=42, stratify=y)"
   ]
  },
  {
   "cell_type": "code",
   "execution_count": null,
   "metadata": {},
   "outputs": [
    {
     "name": "stdout",
     "output_type": "stream",
     "text": [
      "\n",
      "bestTest = 0.8414739531\n",
      "bestIteration = 177\n",
      "\n",
      "Metric AUC is not calculated on train by default. To calculate this metric on train, add hints=skip_train~false to metric parameters.\n",
      "0:\tloss: 0.8414740\tbest: 0.8414740 (0)\ttotal: 4.53s\tremaining: 49.8s\n",
      "\n",
      "bestTest = 0.8388967912\n",
      "bestIteration = 97\n",
      "\n",
      "Metric AUC is not calculated on train by default. To calculate this metric on train, add hints=skip_train~false to metric parameters.\n",
      "1:\tloss: 0.8388968\tbest: 0.8414740 (0)\ttotal: 8.98s\tremaining: 44.9s\n",
      "\n",
      "bestTest = 0.8390688569\n",
      "bestIteration = 113\n",
      "\n",
      "Metric AUC is not calculated on train by default. To calculate this metric on train, add hints=skip_train~false to metric parameters.\n",
      "2:\tloss: 0.8390689\tbest: 0.8414740 (0)\ttotal: 13.4s\tremaining: 40.1s\n"
     ]
    }
   ],
   "source": [
    "# 2)\n",
    "from catboost import CatBoostClassifier\n",
    "\n",
    "grid = {\n",
    "    'iterations': [187, 190, 193],\n",
    "    'learning_rate': [0.03, 0.04, 0.05, 0.1]\n",
    "}\n",
    "\n",
    "catboost_model = CatBoostClassifier(silent=True, cat_features=cat_cols, eval_metric='AUC', random_state=42)\n",
    "catboost_model.grid_search(grid, X_train, y_train)"
   ]
  },
  {
   "cell_type": "code",
   "execution_count": null,
   "metadata": {},
   "outputs": [],
   "source": [
    "roc_auc_score(y_valid, catboost_model.predict_proba(X_valid)[:, 1])"
   ]
  },
  {
   "cell_type": "markdown",
   "metadata": {
    "id": "rf4Kjt96EEZU"
   },
   "source": [
    "Выпишите какое лучшее качество и с какими параметрами вам удалось получить"
   ]
  },
  {
   "cell_type": "markdown",
   "metadata": {
    "id": "d2d9GolXEEZV"
   },
   "source": [
    "**Лучшее качество:** $0.8553$"
   ]
  },
  {
   "cell_type": "markdown",
   "metadata": {
    "id": "dDMXbvNZEEZV"
   },
   "source": [
    "# Предсказания"
   ]
  },
  {
   "cell_type": "code",
   "execution_count": 19,
   "metadata": {
    "id": "G_P4wFNaEEZW",
    "outputId": "1fba5dfc-88e4-49e3-ed8a-afe21ae3325a"
   },
   "outputs": [],
   "source": [
    "best_model = catboost_model"
   ]
  },
  {
   "cell_type": "code",
   "execution_count": 20,
   "metadata": {
    "id": "FfSufx0CEEZZ"
   },
   "outputs": [],
   "source": [
    "X_test = pd.read_csv('./test.csv')\n",
    "submission = pd.read_csv('./submission.csv')\n",
    "\n",
    "submission['Churn'] = best_model.predict_proba(X_test)[:, 1]\n",
    "submission.to_csv('./my_submission.csv', index=False)"
   ]
  },
  {
   "cell_type": "markdown",
   "metadata": {
    "id": "mkxjbGkVEEZc"
   },
   "source": [
    "# Kaggle (5 баллов)\n",
    "\n",
    "Как выставить баллы:\n",
    "\n",
    "1) 1 >= roc auc > 0.84 это 5 баллов\n",
    "\n",
    "2) 0.84 >= roc auc > 0.7 это 3 балла\n",
    "\n",
    "3) 0.7 >= roc auc > 0.6 это 1 балл\n",
    "\n",
    "4) 0.6 >= roc auc это 0 баллов\n",
    "\n",
    "\n",
    "Для выполнения задания необходимо выполнить следующие шаги.\n",
    "* Зарегистрироваться на платформе [kaggle.com](kaggle.com). Процесс выставления оценок будет проходить при подведении итогового рейтинга. Пожалуйста, укажите во вкладке Team -> Team name свои имя и фамилию в формате Имя_Фамилия (важно, чтобы имя и фамилия совпадали с данными на Stepik).\n",
    "* Обучить модель, получить файл с ответами в формате .csv и сдать его в конкурс. Пробуйте и экспериментируйте. Обратите внимание, что вы можете выполнять до 20 попыток сдачи на kaggle в день.\n",
    "* После окончания соревнования отправить в итоговый ноутбук с решением на степик. \n",
    "* После дедлайна проверьте посылки других участников по критериям. Для этого надо зайти на степик, скачать их ноутбук и проверить скор в соревновании."
   ]
  }
 ],
 "metadata": {
  "colab": {
   "collapsed_sections": [],
   "name": "baseline.ipynb",
   "provenance": []
  },
  "kernelspec": {
   "display_name": "Python 3 (ipykernel)",
   "language": "python",
   "name": "python3"
  },
  "language_info": {
   "codemirror_mode": {
    "name": "ipython",
    "version": 3
   },
   "file_extension": ".py",
   "mimetype": "text/x-python",
   "name": "python",
   "nbconvert_exporter": "python",
   "pygments_lexer": "ipython3",
   "version": "3.8.11"
  }
 },
 "nbformat": 4,
 "nbformat_minor": 1
}
